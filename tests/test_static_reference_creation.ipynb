{
 "cells": [
  {
   "cell_type": "code",
   "execution_count": 1,
   "metadata": {},
   "outputs": [],
   "source": [
    "\n",
    "import refquant.multi_run_table_creation as multi_run_table_creation\n",
    "import refquant.table_import as table_import\n",
    "import refquant.refquant_classes as refquant_classes\n",
    "import refquant.loading.all_precursor_loading as all_precursor_loading\n",
    "\n",
    "test_input = \"../test_data/diann_test_input.tsv\"\n",
    "\n"
   ]
  },
  {
   "cell_type": "code",
   "execution_count": 2,
   "metadata": {},
   "outputs": [
    {
     "name": "stdout",
     "output_type": "stream",
     "text": [
      "input file\n",
      "/Users/constantin/workspace/refquant/test_data\n",
      "../test_data/diann_test_input.tsv\n",
      "using input type diann_fragion_isotopes_mDIA_raw\n",
      "using input type diann_precursors_mDIA\n"
     ]
    }
   ],
   "source": [
    "import pandas as pd\n",
    "df_diann = pd.read_csv(test_input, sep=\"\\t\")\n",
    "reference_table = table_import.TableReformatterDIANN(test_input).outfile_name"
   ]
  },
  {
   "cell_type": "markdown",
   "metadata": {},
   "source": [
    "### Append the relevant properties to the singlelabelledprecursors. We will compare these properties with the result dataframes written out by the software"
   ]
  },
  {
   "cell_type": "code",
   "execution_count": 3,
   "metadata": {},
   "outputs": [],
   "source": [
    "import numpy as np\n",
    "\n",
    "class TargetPrecursorAnnotatorDIANN(refquant_classes.TargetPrecursorAnnotator):\n",
    "    def __init__(self,reference_precursor, target_precursor):\n",
    "        super().__init__(reference_precursor, target_precursor)\n",
    "        self._annotate_ms1_ratio()\n",
    "        self._annotate_derived_ratio()\n",
    "\n",
    "    def _annotate_derived_ratio(self):\n",
    "        if self.target_precursor.number_of_ratios_used == 0:\n",
    "            self.target_precursor.derived_ratio = np.nan\n",
    "            return\n",
    "        self.target_precursor.median_ratio_to_reference = np.median(self._ratios_to_reference)\n",
    "        sorted_ratios = np.sort(self._ratios_to_reference)\n",
    "        idx_quantile_min = self._get_index_of_quantile(0.1)\n",
    "        idx_quantile = self._get_index_of_quantile(0.25)\n",
    "        self.target_precursor.min_ratio_to_reference = sorted_ratios[idx_quantile_min]\n",
    "        self.target_precursor.ratio_to_reference = sorted_ratios[idx_quantile]\n",
    "    \n",
    "    def _get_index_of_quantile(self,quantile):\n",
    "        return int(quantile * len(self._ratios_to_reference))\n",
    "\n",
    "    def _annotate_ms1_ratio(self):\n",
    "        is_ms1 = [\"MS1\" in x for x in self._list_of_intersection_ions]\n",
    "        if sum(is_ms1)==1:\n",
    "            ms1_ratio = self._ratios_to_reference[is_ms1][0]\n",
    "        elif sum(is_ms1) == 0:\n",
    "            ms1_ratio = np.nan\n",
    "        else:\n",
    "            raise ValueError(\"More than one MS1 ion in intersection\")\n",
    "\n",
    "        self.target_precursor.ms1_ratio_to_reference = ms1_ratio\n",
    "    \n",
    "    "
   ]
  },
  {
   "cell_type": "code",
   "execution_count": 4,
   "metadata": {},
   "outputs": [],
   "source": [
    "#refquant_classes.TargetPrecursorAnnotator = TargetPrecursorAnnotatorDIANN"
   ]
  },
  {
   "cell_type": "code",
   "execution_count": 5,
   "metadata": {},
   "outputs": [],
   "source": [
    "class PrecursorTableCreatorQuantityBySearchEngine(multi_run_table_creation.PrecursorQuantityTableCreator):\n",
    "    def _get_quantitative_values(self, list_of_precursors):\n",
    "        return [precursor.search_engine_derived_quantity for precursor in list_of_precursors]\n",
    "\n",
    "class PrecursorTableCreatorQuantityFromMS1(multi_run_table_creation.PrecursorQuantityTableCreator):\n",
    "    def _get_quantitative_values(self, list_of_precursors):\n",
    "        return [precursor.derived_reference_quantity_static + precursor.ms1_ratio_to_reference for precursor in list_of_precursors]\n",
    "\n",
    "class PrecursorTableCreatorQuantityFromMedian(multi_run_table_creation.PrecursorQuantityTableCreator):\n",
    "    def _get_quantitative_values(self, list_of_precursors):\n",
    "        return [precursor.derived_reference_quantity_static + precursor.median_ratio_to_reference for precursor in list_of_precursors]\n",
    "\n",
    "class PrecursorTableCreatorQuantityFromMin(multi_run_table_creation.PrecursorQuantityTableCreator):\n",
    "    def _get_quantitative_values(self, list_of_precursors):\n",
    "        return [precursor.derived_reference_quantity_static + precursor.min_ratio_to_reference for precursor in list_of_precursors]\n",
    "\n",
    "\n",
    "class PrecursorTableCreatorQuantityDefault(multi_run_table_creation.PrecursorQuantityTableCreator):\n",
    "    pass\n",
    "\n",
    "\n",
    "class PrecursorTableCreatorQuantityDefaultNonStatic(multi_run_table_creation.PrecursorQuantityTableCreator):\n",
    "    def _get_quantitative_values(self, list_of_precursors):\n",
    "        return [precursor.comparison_derived_quantity for precursor in list_of_precursors]"
   ]
  },
  {
   "cell_type": "code",
   "execution_count": 6,
   "metadata": {},
   "outputs": [
    {
     "name": "stdout",
     "output_type": "stream",
     "text": [
      "processing 10 runs\n",
      "run:  20220730_TIMS06_MCT_SA_HeLa_whi40_M07_Ref0s4s8_c1_AID8_01_S5-A1_1_3970\n",
      "0/958\n"
     ]
    },
    {
     "name": "stderr",
     "output_type": "stream",
     "text": [
      "/Users/constantin/workspace/refquant/refquant/refquant_classes.py:136: RuntimeWarning: divide by zero encountered in log2\n",
      "  self.target_precursor.summed_quantity_reference = np.log2(np.sum(2**sorted_intensities_descending[:5]))\n"
     ]
    },
    {
     "name": "stdout",
     "output_type": "stream",
     "text": [
      "run:  20220730_TIMS06_MCT_SA_HeLa_whi40_M07_Ref0s4s8_c1_AID8_02_S5-A2_1_3972\n",
      "0/925\n"
     ]
    },
    {
     "name": "stderr",
     "output_type": "stream",
     "text": [
      "/Users/constantin/workspace/refquant/refquant/refquant_classes.py:136: RuntimeWarning: divide by zero encountered in log2\n",
      "  self.target_precursor.summed_quantity_reference = np.log2(np.sum(2**sorted_intensities_descending[:5]))\n"
     ]
    },
    {
     "name": "stdout",
     "output_type": "stream",
     "text": [
      "run:  20220730_TIMS06_MCT_SA_HeLa_whi40_M07_Ref0s4s8_c1_AID8_03_S5-A3_1_3974\n",
      "0/890\n"
     ]
    },
    {
     "name": "stderr",
     "output_type": "stream",
     "text": [
      "/Users/constantin/workspace/refquant/refquant/refquant_classes.py:136: RuntimeWarning: divide by zero encountered in log2\n",
      "  self.target_precursor.summed_quantity_reference = np.log2(np.sum(2**sorted_intensities_descending[:5]))\n"
     ]
    },
    {
     "name": "stdout",
     "output_type": "stream",
     "text": [
      "run:  20220730_TIMS06_MCT_SA_HeLa_whi40_M07_Ref0s4s8_c1_AID8_04_S5-A4_1_3976\n",
      "0/916\n"
     ]
    },
    {
     "name": "stderr",
     "output_type": "stream",
     "text": [
      "/Users/constantin/workspace/refquant/refquant/refquant_classes.py:136: RuntimeWarning: divide by zero encountered in log2\n",
      "  self.target_precursor.summed_quantity_reference = np.log2(np.sum(2**sorted_intensities_descending[:5]))\n"
     ]
    },
    {
     "name": "stdout",
     "output_type": "stream",
     "text": [
      "run:  20220730_TIMS06_MCT_SA_HeLa_whi40_M07_Ref0s4s8_c1_AID8_05_S5-A5_1_3978\n",
      "0/845\n"
     ]
    },
    {
     "name": "stderr",
     "output_type": "stream",
     "text": [
      "/Users/constantin/workspace/refquant/refquant/refquant_classes.py:136: RuntimeWarning: divide by zero encountered in log2\n",
      "  self.target_precursor.summed_quantity_reference = np.log2(np.sum(2**sorted_intensities_descending[:5]))\n"
     ]
    },
    {
     "name": "stdout",
     "output_type": "stream",
     "text": [
      "run:  20220730_TIMS06_MCT_SA_HeLa_whi40_M07_Ref0s4s8_c2_AID8_01_S5-A6_1_3971\n",
      "0/945\n"
     ]
    },
    {
     "name": "stderr",
     "output_type": "stream",
     "text": [
      "/Users/constantin/workspace/refquant/refquant/refquant_classes.py:136: RuntimeWarning: divide by zero encountered in log2\n",
      "  self.target_precursor.summed_quantity_reference = np.log2(np.sum(2**sorted_intensities_descending[:5]))\n"
     ]
    },
    {
     "name": "stdout",
     "output_type": "stream",
     "text": [
      "run:  20220730_TIMS06_MCT_SA_HeLa_whi40_M07_Ref0s4s8_c2_AID8_02_S5-A7_1_3973\n",
      "0/877\n"
     ]
    },
    {
     "name": "stderr",
     "output_type": "stream",
     "text": [
      "/Users/constantin/workspace/refquant/refquant/refquant_classes.py:136: RuntimeWarning: divide by zero encountered in log2\n",
      "  self.target_precursor.summed_quantity_reference = np.log2(np.sum(2**sorted_intensities_descending[:5]))\n"
     ]
    },
    {
     "name": "stdout",
     "output_type": "stream",
     "text": [
      "run:  20220730_TIMS06_MCT_SA_HeLa_whi40_M07_Ref0s4s8_c2_AID8_03_S5-A8_1_3975\n",
      "0/896\n"
     ]
    },
    {
     "name": "stderr",
     "output_type": "stream",
     "text": [
      "/Users/constantin/workspace/refquant/refquant/refquant_classes.py:136: RuntimeWarning: divide by zero encountered in log2\n",
      "  self.target_precursor.summed_quantity_reference = np.log2(np.sum(2**sorted_intensities_descending[:5]))\n"
     ]
    },
    {
     "name": "stdout",
     "output_type": "stream",
     "text": [
      "run:  20220730_TIMS06_MCT_SA_HeLa_whi40_M07_Ref0s4s8_c2_AID8_04_S5-A9_1_3977\n",
      "0/899\n"
     ]
    },
    {
     "name": "stderr",
     "output_type": "stream",
     "text": [
      "/Users/constantin/workspace/refquant/refquant/refquant_classes.py:136: RuntimeWarning: divide by zero encountered in log2\n",
      "  self.target_precursor.summed_quantity_reference = np.log2(np.sum(2**sorted_intensities_descending[:5]))\n"
     ]
    },
    {
     "name": "stdout",
     "output_type": "stream",
     "text": [
      "run:  20220730_TIMS06_MCT_SA_HeLa_whi40_M07_Ref0s4s8_c2_AID8_05_S5-A10_1_3979\n",
      "0/902\n"
     ]
    },
    {
     "name": "stderr",
     "output_type": "stream",
     "text": [
      "/Users/constantin/workspace/refquant/refquant/refquant_classes.py:136: RuntimeWarning: divide by zero encountered in log2\n",
      "  self.target_precursor.summed_quantity_reference = np.log2(np.sum(2**sorted_intensities_descending[:5]))\n"
     ]
    }
   ],
   "source": [
    "single_labelled_precursors = all_precursor_loading.get_all_single_labelled_precursors_in_dataset_diann(reference_table, test_input)"
   ]
  },
  {
   "cell_type": "code",
   "execution_count": 7,
   "metadata": {},
   "outputs": [
    {
     "name": "stdout",
     "output_type": "stream",
     "text": [
      "Trying to assign ms1_quantity_reference to 14719 precursors\n",
      "Trying to assign search_engine_derived_quantity_reference to 116 precursors\n",
      "Trying to assign summed_quantity_reference to 258 precursors\n",
      "Trying to assign ms1_quantity_reference to 0 precursors\n",
      "Trying to assign search_engine_derived_quantity_reference to 0 precursors\n",
      "Trying to assign summed_quantity_reference to 240 precursors\n",
      "Trying to assign ms1_quantity_reference to 0 precursors\n",
      "Trying to assign search_engine_derived_quantity_reference to 0 precursors\n",
      "Trying to assign summed_quantity_reference to 240 precursors\n"
     ]
    },
    {
     "name": "stderr",
     "output_type": "stream",
     "text": [
      "/Users/constantin/opt/anaconda3/envs/refquant/lib/python3.8/site-packages/numpy/lib/nanfunctions.py:1217: RuntimeWarning: All-NaN slice encountered\n",
      "  r, k = function_base._ureduce(a, func=_nanmedian, axis=axis, out=out,\n",
      "/Users/constantin/workspace/refquant/refquant/multi_run_table_creation.py:123: FutureWarning: The default dtype for empty Series will be 'object' instead of 'float64' in a future version. Specify a dtype explicitly to silence this warning.\n",
      "  series_quantities = pd.Series(series_values, index = series_index).drop_duplicates()\n",
      "/Users/constantin/workspace/refquant/refquant/multi_run_table_creation.py:123: FutureWarning: The default dtype for empty Series will be 'object' instead of 'float64' in a future version. Specify a dtype explicitly to silence this warning.\n",
      "  series_quantities = pd.Series(series_values, index = series_index).drop_duplicates()\n",
      "/Users/constantin/workspace/refquant/refquant/multi_run_table_creation.py:123: FutureWarning: The default dtype for empty Series will be 'object' instead of 'float64' in a future version. Specify a dtype explicitly to silence this warning.\n",
      "  series_quantities = pd.Series(series_values, index = series_index).drop_duplicates()\n",
      "/Users/constantin/workspace/refquant/refquant/multi_run_table_creation.py:123: FutureWarning: The default dtype for empty Series will be 'object' instead of 'float64' in a future version. Specify a dtype explicitly to silence this warning.\n",
      "  series_quantities = pd.Series(series_values, index = series_index).drop_duplicates()\n",
      "/Users/constantin/workspace/refquant/refquant/multi_run_table_creation.py:123: FutureWarning: The default dtype for empty Series will be 'object' instead of 'float64' in a future version. Specify a dtype explicitly to silence this warning.\n",
      "  series_quantities = pd.Series(series_values, index = series_index).drop_duplicates()\n",
      "/Users/constantin/workspace/refquant/refquant/multi_run_table_creation.py:123: FutureWarning: The default dtype for empty Series will be 'object' instead of 'float64' in a future version. Specify a dtype explicitly to silence this warning.\n",
      "  series_quantities = pd.Series(series_values, index = series_index).drop_duplicates()\n",
      "/Users/constantin/workspace/refquant/refquant/multi_run_table_creation.py:123: FutureWarning: The default dtype for empty Series will be 'object' instead of 'float64' in a future version. Specify a dtype explicitly to silence this warning.\n",
      "  series_quantities = pd.Series(series_values, index = series_index).drop_duplicates()\n",
      "/Users/constantin/workspace/refquant/refquant/multi_run_table_creation.py:123: FutureWarning: The default dtype for empty Series will be 'object' instead of 'float64' in a future version. Specify a dtype explicitly to silence this warning.\n",
      "  series_quantities = pd.Series(series_values, index = series_index).drop_duplicates()\n",
      "/Users/constantin/workspace/refquant/refquant/multi_run_table_creation.py:123: FutureWarning: The default dtype for empty Series will be 'object' instead of 'float64' in a future version. Specify a dtype explicitly to silence this warning.\n",
      "  series_quantities = pd.Series(series_values, index = series_index).drop_duplicates()\n",
      "/Users/constantin/workspace/refquant/refquant/multi_run_table_creation.py:123: FutureWarning: The default dtype for empty Series will be 'object' instead of 'float64' in a future version. Specify a dtype explicitly to silence this warning.\n",
      "  series_quantities = pd.Series(series_values, index = series_index).drop_duplicates()\n",
      "/Users/constantin/workspace/refquant/refquant/multi_run_table_creation.py:123: FutureWarning: The default dtype for empty Series will be 'object' instead of 'float64' in a future version. Specify a dtype explicitly to silence this warning.\n",
      "  series_quantities = pd.Series(series_values, index = series_index).drop_duplicates()\n",
      "/Users/constantin/workspace/refquant/refquant/multi_run_table_creation.py:123: FutureWarning: The default dtype for empty Series will be 'object' instead of 'float64' in a future version. Specify a dtype explicitly to silence this warning.\n",
      "  series_quantities = pd.Series(series_values, index = series_index).drop_duplicates()\n",
      "/Users/constantin/workspace/refquant/refquant/multi_run_table_creation.py:123: FutureWarning: The default dtype for empty Series will be 'object' instead of 'float64' in a future version. Specify a dtype explicitly to silence this warning.\n",
      "  series_quantities = pd.Series(series_values, index = series_index).drop_duplicates()\n",
      "/Users/constantin/workspace/refquant/refquant/multi_run_table_creation.py:123: FutureWarning: The default dtype for empty Series will be 'object' instead of 'float64' in a future version. Specify a dtype explicitly to silence this warning.\n",
      "  series_quantities = pd.Series(series_values, index = series_index).drop_duplicates()\n",
      "/Users/constantin/workspace/refquant/refquant/multi_run_table_creation.py:123: FutureWarning: The default dtype for empty Series will be 'object' instead of 'float64' in a future version. Specify a dtype explicitly to silence this warning.\n",
      "  series_quantities = pd.Series(series_values, index = series_index).drop_duplicates()\n",
      "/Users/constantin/workspace/refquant/refquant/multi_run_table_creation.py:123: FutureWarning: The default dtype for empty Series will be 'object' instead of 'float64' in a future version. Specify a dtype explicitly to silence this warning.\n",
      "  series_quantities = pd.Series(series_values, index = series_index).drop_duplicates()\n",
      "/Users/constantin/workspace/refquant/refquant/multi_run_table_creation.py:123: FutureWarning: The default dtype for empty Series will be 'object' instead of 'float64' in a future version. Specify a dtype explicitly to silence this warning.\n",
      "  series_quantities = pd.Series(series_values, index = series_index).drop_duplicates()\n",
      "/Users/constantin/workspace/refquant/refquant/multi_run_table_creation.py:123: FutureWarning: The default dtype for empty Series will be 'object' instead of 'float64' in a future version. Specify a dtype explicitly to silence this warning.\n",
      "  series_quantities = pd.Series(series_values, index = series_index).drop_duplicates()\n",
      "/Users/constantin/workspace/refquant/refquant/multi_run_table_creation.py:123: FutureWarning: The default dtype for empty Series will be 'object' instead of 'float64' in a future version. Specify a dtype explicitly to silence this warning.\n",
      "  series_quantities = pd.Series(series_values, index = series_index).drop_duplicates()\n",
      "/Users/constantin/workspace/refquant/refquant/multi_run_table_creation.py:123: FutureWarning: The default dtype for empty Series will be 'object' instead of 'float64' in a future version. Specify a dtype explicitly to silence this warning.\n",
      "  series_quantities = pd.Series(series_values, index = series_index).drop_duplicates()\n",
      "/Users/constantin/workspace/refquant/refquant/multi_run_table_creation.py:123: FutureWarning: The default dtype for empty Series will be 'object' instead of 'float64' in a future version. Specify a dtype explicitly to silence this warning.\n",
      "  series_quantities = pd.Series(series_values, index = series_index).drop_duplicates()\n",
      "/Users/constantin/workspace/refquant/refquant/multi_run_table_creation.py:123: FutureWarning: The default dtype for empty Series will be 'object' instead of 'float64' in a future version. Specify a dtype explicitly to silence this warning.\n",
      "  series_quantities = pd.Series(series_values, index = series_index).drop_duplicates()\n",
      "/Users/constantin/workspace/refquant/refquant/multi_run_table_creation.py:123: FutureWarning: The default dtype for empty Series will be 'object' instead of 'float64' in a future version. Specify a dtype explicitly to silence this warning.\n",
      "  series_quantities = pd.Series(series_values, index = series_index).drop_duplicates()\n",
      "/Users/constantin/workspace/refquant/refquant/multi_run_table_creation.py:123: FutureWarning: The default dtype for empty Series will be 'object' instead of 'float64' in a future version. Specify a dtype explicitly to silence this warning.\n",
      "  series_quantities = pd.Series(series_values, index = series_index).drop_duplicates()\n",
      "/Users/constantin/workspace/refquant/refquant/multi_run_table_creation.py:123: FutureWarning: The default dtype for empty Series will be 'object' instead of 'float64' in a future version. Specify a dtype explicitly to silence this warning.\n",
      "  series_quantities = pd.Series(series_values, index = series_index).drop_duplicates()\n",
      "/Users/constantin/workspace/refquant/refquant/multi_run_table_creation.py:123: FutureWarning: The default dtype for empty Series will be 'object' instead of 'float64' in a future version. Specify a dtype explicitly to silence this warning.\n",
      "  series_quantities = pd.Series(series_values, index = series_index).drop_duplicates()\n",
      "/Users/constantin/workspace/refquant/refquant/multi_run_table_creation.py:123: FutureWarning: The default dtype for empty Series will be 'object' instead of 'float64' in a future version. Specify a dtype explicitly to silence this warning.\n",
      "  series_quantities = pd.Series(series_values, index = series_index).drop_duplicates()\n",
      "/Users/constantin/workspace/refquant/refquant/multi_run_table_creation.py:123: FutureWarning: The default dtype for empty Series will be 'object' instead of 'float64' in a future version. Specify a dtype explicitly to silence this warning.\n",
      "  series_quantities = pd.Series(series_values, index = series_index).drop_duplicates()\n",
      "/Users/constantin/workspace/refquant/refquant/multi_run_table_creation.py:123: FutureWarning: The default dtype for empty Series will be 'object' instead of 'float64' in a future version. Specify a dtype explicitly to silence this warning.\n",
      "  series_quantities = pd.Series(series_values, index = series_index).drop_duplicates()\n",
      "/Users/constantin/workspace/refquant/refquant/multi_run_table_creation.py:123: FutureWarning: The default dtype for empty Series will be 'object' instead of 'float64' in a future version. Specify a dtype explicitly to silence this warning.\n",
      "  series_quantities = pd.Series(series_values, index = series_index).drop_duplicates()\n",
      "/Users/constantin/workspace/refquant/refquant/multi_run_table_creation.py:123: FutureWarning: The default dtype for empty Series will be 'object' instead of 'float64' in a future version. Specify a dtype explicitly to silence this warning.\n",
      "  series_quantities = pd.Series(series_values, index = series_index).drop_duplicates()\n",
      "/Users/constantin/workspace/refquant/refquant/multi_run_table_creation.py:123: FutureWarning: The default dtype for empty Series will be 'object' instead of 'float64' in a future version. Specify a dtype explicitly to silence this warning.\n",
      "  series_quantities = pd.Series(series_values, index = series_index).drop_duplicates()\n",
      "/Users/constantin/workspace/refquant/refquant/multi_run_table_creation.py:123: FutureWarning: The default dtype for empty Series will be 'object' instead of 'float64' in a future version. Specify a dtype explicitly to silence this warning.\n",
      "  series_quantities = pd.Series(series_values, index = series_index).drop_duplicates()\n",
      "/Users/constantin/workspace/refquant/refquant/multi_run_table_creation.py:123: FutureWarning: The default dtype for empty Series will be 'object' instead of 'float64' in a future version. Specify a dtype explicitly to silence this warning.\n",
      "  series_quantities = pd.Series(series_values, index = series_index).drop_duplicates()\n",
      "/Users/constantin/workspace/refquant/refquant/multi_run_table_creation.py:123: FutureWarning: The default dtype for empty Series will be 'object' instead of 'float64' in a future version. Specify a dtype explicitly to silence this warning.\n",
      "  series_quantities = pd.Series(series_values, index = series_index).drop_duplicates()\n",
      "/Users/constantin/workspace/refquant/refquant/multi_run_table_creation.py:123: FutureWarning: The default dtype for empty Series will be 'object' instead of 'float64' in a future version. Specify a dtype explicitly to silence this warning.\n",
      "  series_quantities = pd.Series(series_values, index = series_index).drop_duplicates()\n",
      "/Users/constantin/workspace/refquant/refquant/multi_run_table_creation.py:123: FutureWarning: The default dtype for empty Series will be 'object' instead of 'float64' in a future version. Specify a dtype explicitly to silence this warning.\n",
      "  series_quantities = pd.Series(series_values, index = series_index).drop_duplicates()\n",
      "/Users/constantin/workspace/refquant/refquant/multi_run_table_creation.py:123: FutureWarning: The default dtype for empty Series will be 'object' instead of 'float64' in a future version. Specify a dtype explicitly to silence this warning.\n",
      "  series_quantities = pd.Series(series_values, index = series_index).drop_duplicates()\n",
      "/Users/constantin/workspace/refquant/refquant/multi_run_table_creation.py:123: FutureWarning: The default dtype for empty Series will be 'object' instead of 'float64' in a future version. Specify a dtype explicitly to silence this warning.\n",
      "  series_quantities = pd.Series(series_values, index = series_index).drop_duplicates()\n"
     ]
    },
    {
     "name": "stdout",
     "output_type": "stream",
     "text": [
      "Trying to assign ms1_quantity_reference to 0 precursors\n",
      "Trying to assign search_engine_derived_quantity_reference to 0 precursors\n",
      "Trying to assign summed_quantity_reference to 240 precursors\n",
      "Trying to assign ms1_quantity_reference to 0 precursors\n",
      "Trying to assign search_engine_derived_quantity_reference to 0 precursors\n",
      "Trying to assign summed_quantity_reference to 240 precursors\n",
      "Trying to assign ms1_quantity_reference to 0 precursors\n",
      "Trying to assign search_engine_derived_quantity_reference to 0 precursors\n",
      "Trying to assign summed_quantity_reference to 240 precursors\n"
     ]
    },
    {
     "name": "stderr",
     "output_type": "stream",
     "text": [
      "/Users/constantin/workspace/refquant/refquant/multi_run_table_creation.py:123: FutureWarning: The default dtype for empty Series will be 'object' instead of 'float64' in a future version. Specify a dtype explicitly to silence this warning.\n",
      "  series_quantities = pd.Series(series_values, index = series_index).drop_duplicates()\n",
      "/Users/constantin/workspace/refquant/refquant/multi_run_table_creation.py:123: FutureWarning: The default dtype for empty Series will be 'object' instead of 'float64' in a future version. Specify a dtype explicitly to silence this warning.\n",
      "  series_quantities = pd.Series(series_values, index = series_index).drop_duplicates()\n",
      "/Users/constantin/workspace/refquant/refquant/multi_run_table_creation.py:123: FutureWarning: The default dtype for empty Series will be 'object' instead of 'float64' in a future version. Specify a dtype explicitly to silence this warning.\n",
      "  series_quantities = pd.Series(series_values, index = series_index).drop_duplicates()\n",
      "/Users/constantin/workspace/refquant/refquant/multi_run_table_creation.py:123: FutureWarning: The default dtype for empty Series will be 'object' instead of 'float64' in a future version. Specify a dtype explicitly to silence this warning.\n",
      "  series_quantities = pd.Series(series_values, index = series_index).drop_duplicates()\n",
      "/Users/constantin/workspace/refquant/refquant/multi_run_table_creation.py:123: FutureWarning: The default dtype for empty Series will be 'object' instead of 'float64' in a future version. Specify a dtype explicitly to silence this warning.\n",
      "  series_quantities = pd.Series(series_values, index = series_index).drop_duplicates()\n",
      "/Users/constantin/workspace/refquant/refquant/multi_run_table_creation.py:123: FutureWarning: The default dtype for empty Series will be 'object' instead of 'float64' in a future version. Specify a dtype explicitly to silence this warning.\n",
      "  series_quantities = pd.Series(series_values, index = series_index).drop_duplicates()\n",
      "/Users/constantin/workspace/refquant/refquant/multi_run_table_creation.py:123: FutureWarning: The default dtype for empty Series will be 'object' instead of 'float64' in a future version. Specify a dtype explicitly to silence this warning.\n",
      "  series_quantities = pd.Series(series_values, index = series_index).drop_duplicates()\n",
      "/Users/constantin/workspace/refquant/refquant/multi_run_table_creation.py:123: FutureWarning: The default dtype for empty Series will be 'object' instead of 'float64' in a future version. Specify a dtype explicitly to silence this warning.\n",
      "  series_quantities = pd.Series(series_values, index = series_index).drop_duplicates()\n",
      "/Users/constantin/workspace/refquant/refquant/multi_run_table_creation.py:123: FutureWarning: The default dtype for empty Series will be 'object' instead of 'float64' in a future version. Specify a dtype explicitly to silence this warning.\n",
      "  series_quantities = pd.Series(series_values, index = series_index).drop_duplicates()\n",
      "/Users/constantin/workspace/refquant/refquant/multi_run_table_creation.py:123: FutureWarning: The default dtype for empty Series will be 'object' instead of 'float64' in a future version. Specify a dtype explicitly to silence this warning.\n",
      "  series_quantities = pd.Series(series_values, index = series_index).drop_duplicates()\n",
      "/Users/constantin/workspace/refquant/refquant/multi_run_table_creation.py:123: FutureWarning: The default dtype for empty Series will be 'object' instead of 'float64' in a future version. Specify a dtype explicitly to silence this warning.\n",
      "  series_quantities = pd.Series(series_values, index = series_index).drop_duplicates()\n",
      "/Users/constantin/workspace/refquant/refquant/multi_run_table_creation.py:123: FutureWarning: The default dtype for empty Series will be 'object' instead of 'float64' in a future version. Specify a dtype explicitly to silence this warning.\n",
      "  series_quantities = pd.Series(series_values, index = series_index).drop_duplicates()\n",
      "/Users/constantin/workspace/refquant/refquant/multi_run_table_creation.py:123: FutureWarning: The default dtype for empty Series will be 'object' instead of 'float64' in a future version. Specify a dtype explicitly to silence this warning.\n",
      "  series_quantities = pd.Series(series_values, index = series_index).drop_duplicates()\n",
      "/Users/constantin/workspace/refquant/refquant/multi_run_table_creation.py:123: FutureWarning: The default dtype for empty Series will be 'object' instead of 'float64' in a future version. Specify a dtype explicitly to silence this warning.\n",
      "  series_quantities = pd.Series(series_values, index = series_index).drop_duplicates()\n",
      "/Users/constantin/workspace/refquant/refquant/multi_run_table_creation.py:123: FutureWarning: The default dtype for empty Series will be 'object' instead of 'float64' in a future version. Specify a dtype explicitly to silence this warning.\n",
      "  series_quantities = pd.Series(series_values, index = series_index).drop_duplicates()\n",
      "/Users/constantin/workspace/refquant/refquant/multi_run_table_creation.py:123: FutureWarning: The default dtype for empty Series will be 'object' instead of 'float64' in a future version. Specify a dtype explicitly to silence this warning.\n",
      "  series_quantities = pd.Series(series_values, index = series_index).drop_duplicates()\n",
      "/Users/constantin/workspace/refquant/refquant/multi_run_table_creation.py:123: FutureWarning: The default dtype for empty Series will be 'object' instead of 'float64' in a future version. Specify a dtype explicitly to silence this warning.\n",
      "  series_quantities = pd.Series(series_values, index = series_index).drop_duplicates()\n",
      "/Users/constantin/workspace/refquant/refquant/multi_run_table_creation.py:123: FutureWarning: The default dtype for empty Series will be 'object' instead of 'float64' in a future version. Specify a dtype explicitly to silence this warning.\n",
      "  series_quantities = pd.Series(series_values, index = series_index).drop_duplicates()\n",
      "/Users/constantin/workspace/refquant/refquant/multi_run_table_creation.py:123: FutureWarning: The default dtype for empty Series will be 'object' instead of 'float64' in a future version. Specify a dtype explicitly to silence this warning.\n",
      "  series_quantities = pd.Series(series_values, index = series_index).drop_duplicates()\n",
      "/Users/constantin/workspace/refquant/refquant/multi_run_table_creation.py:123: FutureWarning: The default dtype for empty Series will be 'object' instead of 'float64' in a future version. Specify a dtype explicitly to silence this warning.\n",
      "  series_quantities = pd.Series(series_values, index = series_index).drop_duplicates()\n"
     ]
    }
   ],
   "source": [
    "precursor_table_df_search_engine = PrecursorTableCreatorQuantityBySearchEngine(single_labelled_precursors).precursorquantitytable\n",
    "precursor_table_df_ms1 = PrecursorTableCreatorQuantityFromMS1(single_labelled_precursors).precursorquantitytable\n",
    "precursor_table_df_median = PrecursorTableCreatorQuantityFromMedian(single_labelled_precursors).precursorquantitytable\n",
    "precursor_table_df_min = PrecursorTableCreatorQuantityFromMin(single_labelled_precursors).precursorquantitytable\n",
    "precursor_table_df_default = PrecursorTableCreatorQuantityDefault(single_labelled_precursors).precursorquantitytable\n",
    "precursor_table_df_default_nonstatic = PrecursorTableCreatorQuantityDefaultNonStatic(single_labelled_precursors).precursorquantitytable"
   ]
  },
  {
   "cell_type": "code",
   "execution_count": 8,
   "metadata": {},
   "outputs": [],
   "source": [
    "precursor_table_df_search_engine.to_csv(\"../test_data/precursor_table_df_search_engine.tsv\", sep = \"\\t\", index = False)\n",
    "precursor_table_df_ms1.to_csv(\"../test_data/precursor_table_df_ms1.tsv\", sep = \"\\t\", index = False)\n",
    "precursor_table_df_median.to_csv(\"../test_data/precursor_table_df_median.tsv\", sep = \"\\t\", index = False)\n",
    "precursor_table_df_min.to_csv(\"../test_data/precursor_table_df_min.tsv\", sep = \"\\t\", index = False)\n",
    "precursor_table_df_default.to_csv(\"../test_data/precursor_table_df_default.tsv\", sep = \"\\t\", index = False)\n",
    "precursor_table_df_default_nonstatic.to_csv(\"../test_data/precursor_table_df_default_nonstatic.tsv\", sep = \"\\t\", index = False)\n",
    "\n",
    "\n",
    "table_locations = [\"../test_data/precursor_table_df_search_engine.tsv\", \"../test_data/precursor_table_df_ms1.tsv\", \"../test_data/precursor_table_df_median.tsv\", \n",
    "\"../test_data/precursor_table_df_min.tsv\", \"../test_data/precursor_table_df_default.tsv\", \"../test_data/precursor_table_df_default_nonstatic.tsv\"]\n",
    "\n",
    "relevant_variables = [\"search_engine_derived_quantity\", \"ms1_ratio_to_reference\", \"median_ratio_to_reference\", \"min_ratio_to_reference\", \"ratio_to_reference\", \"comparison_derived_quantity\"]\n",
    "\n",
    "table2variable = dict(zip(table_locations, relevant_variables))"
   ]
  },
  {
   "cell_type": "code",
   "execution_count": 9,
   "metadata": {},
   "outputs": [],
   "source": [
    "import numpy as np\n",
    "def go_through_tables_and_check_consistency(tablelocation2variable, single_labelled_precursors):\n",
    "    for table_location, variable in tablelocation2variable.items():\n",
    "        print(table_location)\n",
    "        precursor_df = pd.read_csv(table_location, sep = \"\\t\")\n",
    "        compare_similarities_between_singlelabelledprecursors_and_table(single_labelled_precursors, precursor_df, variable)\n",
    "\n",
    "\n",
    "def compare_similarities_between_singlelabelledprecursors_and_table(single_labelled_precursors, precursor_df, relevant_variable):\n",
    "    precursor2singlelabelledprecursors = get_precursor2singlelabelledprecursors(single_labelled_precursors)\n",
    "    precursor_df = precursor_df.set_index(\"ion\").replace(0, np.nan).drop(columns = [\"protein\"])\n",
    "    precursor_df = np.log2(precursor_df)\n",
    "    precursor_copy = precursor_df.copy().reset_index()\n",
    "\n",
    "\n",
    "    for precursor_name in precursor_df.index.unique():\n",
    "        single_labelled_precursors_for_precursor = precursor2singlelabelledprecursors[precursor_name]\n",
    "        precursor_df_for_precursor = precursor_df.loc[[precursor_name]]\n",
    "        assert_that_the_reference_intensity_is_constant_over_runs(single_labelled_precursors_for_precursor, precursor_df_for_precursor, relevant_variable)\n",
    "\n",
    "\n",
    "\n",
    "def get_precursor2singlelabelledprecursors(single_labelled_precursors):\n",
    "    precursor2singlelabelledprecursors = {}\n",
    "    for precursor in single_labelled_precursors:\n",
    "        if precursor.name not in precursor2singlelabelledprecursors:\n",
    "            precursor2singlelabelledprecursors[precursor.name] = []\n",
    "        precursor2singlelabelledprecursors[precursor.name].append(precursor)\n",
    "    return precursor2singlelabelledprecursors\n",
    "\n",
    "\n",
    "\n",
    "def assert_that_the_reference_intensity_is_constant_over_runs(singlelabelled_precursors_for_precursor, row_of_precursor_df, relevant_variable):\n",
    "    channel2run2quantity  = get_channel2run2quantity(singlelabelled_precursors_for_precursor, relevant_variable)\n",
    "    ratios = []\n",
    "    for channel in channel2run2quantity.keys():\n",
    "        runs = channel2run2quantity[channel].keys()\n",
    "        for run in channel2run2quantity[channel].keys():\n",
    "            run_channel = f\"{run}_{channel}\"\n",
    "            quantity_df = row_of_precursor_df[run_channel].values[0]\n",
    "            quantity_precursor = channel2run2quantity[channel][run]\n",
    "            if np.isnan(quantity_precursor) or np.isnan(quantity_df):\n",
    "                if not (np.isnan(quantity_precursor) and np.isnan(quantity_df)):\n",
    "                    print(f\"precursor {singlelabelled_precursors_for_precursor[0].name}, channel {channel}, run {run} supposedly has no nan value\")\n",
    "                assert np.isnan(quantity_df) and np.isnan(quantity_precursor)\n",
    "                continue\n",
    "            ratio = quantity_df - quantity_precursor\n",
    "            ratios.append(ratio)\n",
    "    if len(ratios)>0:\n",
    "        assert np.std(ratios) < 0.0001\n",
    "\n",
    "\n",
    "\n",
    "def get_channel2run2quantity(singlelabelled_precursors_for_peptide, relevant_variable):\n",
    "    channel2run2quantity = {}\n",
    "\n",
    "    for precursor in singlelabelled_precursors_for_peptide:\n",
    "        run = precursor.replicate_name\n",
    "        channel = precursor.channel_name\n",
    "        if channel not in channel2run2quantity:\n",
    "            channel2run2quantity[channel] = {}\n",
    "        if run not in channel2run2quantity[channel]:\n",
    "            channel2run2quantity[channel][run] = {}\n",
    "        quantity = getattr(precursor, relevant_variable, 0)\n",
    "        channel2run2quantity[channel][run]= quantity\n",
    "\n",
    "    return channel2run2quantity"
   ]
  },
  {
   "cell_type": "code",
   "execution_count": 10,
   "metadata": {},
   "outputs": [
    {
     "name": "stdout",
     "output_type": "stream",
     "text": [
      "../test_data/precursor_table_df_search_engine.tsv\n",
      "../test_data/precursor_table_df_ms1.tsv\n",
      "../test_data/precursor_table_df_median.tsv\n",
      "../test_data/precursor_table_df_min.tsv\n",
      "../test_data/precursor_table_df_default.tsv\n",
      "../test_data/precursor_table_df_default_nonstatic.tsv\n"
     ]
    }
   ],
   "source": [
    "go_through_tables_and_check_consistency(table2variable, single_labelled_precursors)\n"
   ]
  },
  {
   "cell_type": "code",
   "execution_count": null,
   "metadata": {},
   "outputs": [],
   "source": []
  }
 ],
 "metadata": {
  "kernelspec": {
   "display_name": "Python 3.8.13 ('refquant')",
   "language": "python",
   "name": "python3"
  },
  "language_info": {
   "codemirror_mode": {
    "name": "ipython",
    "version": 3
   },
   "file_extension": ".py",
   "mimetype": "text/x-python",
   "name": "python",
   "nbconvert_exporter": "python",
   "pygments_lexer": "ipython3",
   "version": "3.8.13"
  },
  "orig_nbformat": 4,
  "vscode": {
   "interpreter": {
    "hash": "328e81da15577aa1534c3bde4f537922289d992a438fc3302c6d33df96eac762"
   }
  }
 },
 "nbformat": 4,
 "nbformat_minor": 2
}
