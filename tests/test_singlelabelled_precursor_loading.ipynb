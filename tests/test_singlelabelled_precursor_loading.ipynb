{
 "cells": [
  {
   "cell_type": "code",
   "execution_count": 1,
   "metadata": {},
   "outputs": [],
   "source": [
    "import sys\n",
    "import refquant.multi_run_table_creation as multi_run_table_creation\n",
    "import refquant.table_import as table_import\n",
    "import refquant.refquant_classes as refquant_classes\n",
    "import refquant.refquant_utils as refquant_utils\n",
    "\n",
    "test_input = \"../test_data/diann_test_input.tsv\"\n"
   ]
  },
  {
   "cell_type": "code",
   "execution_count": 2,
   "metadata": {},
   "outputs": [
    {
     "name": "stdout",
     "output_type": "stream",
     "text": [
      "input file\n",
      "/Users/constantin/workspace/refquant/test_data\n",
      "../test_data/diann_test_input.tsv\n",
      "using input type diann_fragion_isotopes_mDIA_raw\n",
      "using input type diann_precursors_mDIA\n"
     ]
    }
   ],
   "source": [
    "import pandas as pd\n",
    "df_diann = pd.read_csv(test_input, sep=\"\\t\")\n",
    "reference_table = table_import.TableReformatterDIANN(test_input).outfile_name\n",
    "\n",
    "runs = refquant_utils.get_runs(reference_table)\n",
    "\n",
    "run = runs[0]"
   ]
  },
  {
   "cell_type": "code",
   "execution_count": 3,
   "metadata": {},
   "outputs": [],
   "source": [
    "\n",
    "class TargetPrecursorAnnotatorFCAnnot(refquant_classes.TargetPrecursorAnnotator):\n",
    "    def __init__(self, reference_precursor, target_precursor):\n",
    "        super().__init__(reference_precursor, target_precursor)\n",
    "        self._annotate_precursor()\n",
    "    \n",
    "    def _annotate_precursor(self):\n",
    "        self._annotate_number_of_ratios_used_to_precursor()\n",
    "        self._annotate_intensity_based_reference_ratio()\n",
    "        if self.target_precursor.number_of_ratios_used>0:\n",
    "            self._annotate_derived_ratio()\n",
    "            self._annotate_comparison_derived_quantity_to_precursor()\n",
    "            self._annotate_ratio_of_most_abundant_fragion_to_reference()\n",
    "            self._annotate_cosine_similarity()\n",
    "            self._annotate_number_of_fragment_ions_available()\n",
    "            self._annotate_fragment_ion_ratios()\n",
    "            self._annotate_intersect_ion_intensities()\n",
    "\n",
    "    def _annotate_fragment_ion_ratios(self):\n",
    "        self.target_precursor.fragion2ratio = dict(zip(self._list_of_intersection_ions,self._ratios_to_reference))\n",
    "\n",
    "    def _annotate_intersect_ion_intensities(self):\n",
    "        self.target_precursor.fragion2intensity_intersect = {fragion:intensity for fragion, intensity in self.target_precursor.fragion2quantity.items() if fragion in self._list_of_intersection_ions}\n"
   ]
  },
  {
   "cell_type": "code",
   "execution_count": 4,
   "metadata": {},
   "outputs": [],
   "source": [
    "refquant_classes.TargetPrecursorAnnotator = TargetPrecursorAnnotatorFCAnnot"
   ]
  },
  {
   "cell_type": "code",
   "execution_count": 5,
   "metadata": {},
   "outputs": [
    {
     "name": "stdout",
     "output_type": "stream",
     "text": [
      "run:  20220730_TIMS06_MCT_SA_HeLa_whi40_M07_Ref0s4s8_c1_AID8_01_S5-A1_1_3970\n",
      "0/958\n"
     ]
    },
    {
     "name": "stderr",
     "output_type": "stream",
     "text": [
      "/Users/constantin/workspace/refquant/refquant/refquant_classes.py:136: RuntimeWarning: divide by zero encountered in log2\n",
      "  self.target_precursor.summed_quantity_reference = np.log2(np.sum(2**sorted_intensities_descending[:5]))\n"
     ]
    }
   ],
   "source": [
    "single_labelled_precursors_for_run = refquant_classes.get_single_labelled_precursors(run, reference_table)"
   ]
  },
  {
   "cell_type": "code",
   "execution_count": 6,
   "metadata": {},
   "outputs": [
    {
     "name": "stdout",
     "output_type": "stream",
     "text": [
      "1916\n"
     ]
    }
   ],
   "source": [
    "print(len(single_labelled_precursors_for_run))"
   ]
  },
  {
   "cell_type": "code",
   "execution_count": 7,
   "metadata": {},
   "outputs": [
    {
     "name": "stderr",
     "output_type": "stream",
     "text": [
      "/Users/constantin/opt/anaconda3/envs/refquant/lib/python3.8/site-packages/pandas/core/internals/blocks.py:351: RuntimeWarning: divide by zero encountered in log2\n",
      "  result = func(self.values, **kwargs)\n"
     ]
    },
    {
     "name": "stdout",
     "output_type": "stream",
     "text": [
      "done checking precursor consistencies\n"
     ]
    }
   ],
   "source": [
    "import numpy as np\n",
    "def check_precursor_consistencies(reference_table : str, run : str, single_labelled_precursors : list):\n",
    "\n",
    "    precursor2channel2singlelabelledprecursors = get_precursor2channel2singlelabelledprecursor(single_labelled_precursors)\n",
    "    reference_df = get_reference_df(reference_table)\n",
    "    channels = [\"target4\", \"target8\"]\n",
    "\n",
    "    for channel in channels:\n",
    "        reference_df_channel = reference_df[[x > 0 for x in reference_df[channel]]]\n",
    "        for precursor in reference_df_channel.index.unique():\n",
    "            precursor_df = reference_df_channel.loc[[precursor]]\n",
    "            slprec = precursor2channel2singlelabelledprecursors[precursor][channel]\n",
    "            assert_that_intensities_in_target_channels_are_the_same(precursor_df, precursor, precursor2channel2singlelabelledprecursors, channel)\n",
    "            assert_that_ratios_to_reference_are_the_same(precursor_df, precursor, precursor2channel2singlelabelledprecursors, channel)\n",
    "\n",
    "    print(\"done checking precursor consistencies\")\n",
    "\n",
    "def get_reference_df(reference_table):\n",
    "    reference_df = pd.read_csv(reference_table, sep=\"\\t\")\n",
    "    reference_df = reference_df[reference_df[\"run\"] == run]\n",
    "    reference_df = reference_df[reference_df[\"reference\"]>0]\n",
    "    reference_df[[\"reference\", \"target4\", \"target8\"]] = np.log2(reference_df[[\"reference\", \"target4\", \"target8\"]])\n",
    "    reference_df = reference_df.set_index(\"precursor\")\n",
    "    return reference_df\n",
    "\n",
    "def get_precursor2channel2singlelabelledprecursor(single_labelled_precursors):\n",
    "    precursor2channel2singlelabelledprecursor = {}\n",
    "    for single_labelled_precursor in single_labelled_precursors:\n",
    "        precursor = single_labelled_precursor.name\n",
    "        channel = single_labelled_precursor.channel_name\n",
    "        if precursor not in precursor2channel2singlelabelledprecursor:\n",
    "            precursor2channel2singlelabelledprecursor[precursor] = {}\n",
    "        if channel not in precursor2channel2singlelabelledprecursor[precursor]:\n",
    "            precursor2channel2singlelabelledprecursor[precursor][channel] = single_labelled_precursor\n",
    "    return precursor2channel2singlelabelledprecursor\n",
    "\n",
    "def assert_that_intensities_in_target_channels_are_the_same(precursor_df, precursor, precursor2channel2singlelabelledprecursors, channel):\n",
    "    ion2intensity_precursor_df = get_ion2intensity_from_precursor_df(precursor_df, channel)\n",
    "    ion2intensity_single_labelled_precursor = precursor2channel2singlelabelledprecursors[precursor][channel].fragion2intensity_intersect\n",
    "    #assert that keys are the same\n",
    "    if  ion2intensity_precursor_df.keys() != ion2intensity_single_labelled_precursor.keys():\n",
    "        print(\"keys are not the same\")\n",
    "    assert ion2intensity_precursor_df.keys() == ion2intensity_single_labelled_precursor.keys()\n",
    "    #assert that values are the same\n",
    "    count_checks = 0\n",
    "    for ion in ion2intensity_precursor_df.keys():\n",
    "        assert np.isclose(ion2intensity_precursor_df[ion], ion2intensity_single_labelled_precursor[ion])\n",
    "        count_checks += 1\n",
    "    \n",
    "    assert count_checks == len(ion2intensity_precursor_df.keys())\n",
    "\n",
    "\n",
    "def assert_that_ratios_to_reference_are_the_same(precursor_df, precursor, precursor2channel2singlelabelledprecursors, channel):\n",
    "    ion2ratio_precursor_df = get_ion2ratio_from_precursor_df(precursor_df, channel)\n",
    "    ion2ratio_single_labelled_precursor = precursor2channel2singlelabelledprecursors[precursor][channel].fragion2ratio\n",
    "    #assert that keys are the same\n",
    "    if not ion2ratio_precursor_df.keys() == ion2ratio_single_labelled_precursor.keys():\n",
    "        print(\"alaaf2\")\n",
    "    assert ion2ratio_precursor_df.keys() == ion2ratio_single_labelled_precursor.keys()\n",
    "    #assert that values are the same\n",
    "    count_checks = 0\n",
    "    for ion in ion2ratio_precursor_df.keys():\n",
    "        assert np.isclose(ion2ratio_precursor_df[ion], ion2ratio_single_labelled_precursor[ion])\n",
    "        count_checks += 1\n",
    "    \n",
    "    assert count_checks == len(ion2ratio_precursor_df.keys())\n",
    "\n",
    "\n",
    "\n",
    "def get_ion2intensity_from_precursor_df(precursor_df : pd.DataFrame, channel : str):\n",
    "    return dict(zip(precursor_df[\"ion\"], precursor_df[channel]))\n",
    "\n",
    "def get_ion2ratio_from_precursor_df(precursor_df : pd.DataFrame, channel : str):\n",
    "    ratios_to_reference  = precursor_df[channel] - precursor_df[\"reference\"]\n",
    "    return dict(zip(precursor_df[\"ion\"], ratios_to_reference))\n",
    "\n",
    "\n",
    "check_precursor_consistencies(reference_table, run, single_labelled_precursors_for_run)\n"
   ]
  },
  {
   "cell_type": "code",
   "execution_count": null,
   "metadata": {},
   "outputs": [],
   "source": []
  }
 ],
 "metadata": {
  "kernelspec": {
   "display_name": "Python 3.8.13 ('refquant')",
   "language": "python",
   "name": "python3"
  },
  "language_info": {
   "codemirror_mode": {
    "name": "ipython",
    "version": 3
   },
   "file_extension": ".py",
   "mimetype": "text/x-python",
   "name": "python",
   "nbconvert_exporter": "python",
   "pygments_lexer": "ipython3",
   "version": "3.8.13"
  },
  "orig_nbformat": 4,
  "vscode": {
   "interpreter": {
    "hash": "328e81da15577aa1534c3bde4f537922289d992a438fc3302c6d33df96eac762"
   }
  }
 },
 "nbformat": 4,
 "nbformat_minor": 2
}
