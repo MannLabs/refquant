{
 "cells": [
  {
   "cell_type": "markdown",
   "metadata": {},
   "source": [
    "# RefQuant tutorial\n",
    "\n",
    "Running the refquant workflow on a small example file"
   ]
  },
  {
   "cell_type": "code",
   "execution_count": 1,
   "metadata": {},
   "outputs": [],
   "source": [
    "#define input file\n",
    "\n",
    "diann_input_file = \"tutorial_data/diann_test_input.tsv\""
   ]
  },
  {
   "cell_type": "code",
   "execution_count": 2,
   "metadata": {},
   "outputs": [],
   "source": [
    "#filter the diann file by channel q value (default 0.15). We have a default function for this, but you can also apply your own filtering logic\n",
    "import refquant.utils.refquant_utils\n",
    "\n",
    "diann_input_file_qvalfiltered = refquant.utils.refquant_utils.write_shortened_diann_file_w_channel_lib_pg_cutoff(diann_input_file, 0.15) #shortened file is written to disk and filename is returned"
   ]
  },
  {
   "cell_type": "code",
   "execution_count": null,
   "metadata": {},
   "outputs": [],
   "source": [
    "#run the refquant pipeline\n",
    "import refquant.refquant_manager\n",
    "\n",
    "refquant.refquant_manager.run_refquant(diann_file_qvalfiltered=diann_input_file_qvalfiltered, use_multiprocessing=True)"
   ]
  },
  {
   "cell_type": "code",
   "execution_count": null,
   "metadata": {},
   "outputs": [],
   "source": []
  }
 ],
 "metadata": {
  "kernelspec": {
   "display_name": "Python 3.8.13 ('refquant')",
   "language": "python",
   "name": "python3"
  },
  "language_info": {
   "codemirror_mode": {
    "name": "ipython",
    "version": 3
   },
   "file_extension": ".py",
   "mimetype": "text/x-python",
   "name": "python",
   "nbconvert_exporter": "python",
   "pygments_lexer": "ipython3",
   "version": "3.8.13"
  },
  "toc": {
   "base_numbering": 1,
   "nav_menu": {},
   "number_sections": true,
   "sideBar": true,
   "skip_h1_title": false,
   "title_cell": "Table of Contents",
   "title_sidebar": "Contents",
   "toc_cell": false,
   "toc_position": {},
   "toc_section_display": true,
   "toc_window_display": false
  },
  "vscode": {
   "interpreter": {
    "hash": "328e81da15577aa1534c3bde4f537922289d992a438fc3302c6d33df96eac762"
   }
  }
 },
 "nbformat": 4,
 "nbformat_minor": 4
}
