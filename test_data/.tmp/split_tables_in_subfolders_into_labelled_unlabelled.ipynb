{
 "cells": [
  {
   "cell_type": "code",
   "execution_count": 3,
   "metadata": {},
   "outputs": [],
   "source": [
    "subfolders = [\".\"]#, \"benchmark_filter_3\",\"benchmark_filter_3_6\",\"benchmark_filter_allions\"]\n",
    "\n",
    "table_file = \"spectronaut_test_input.tsv\""
   ]
  },
  {
   "cell_type": "code",
   "execution_count": 4,
   "metadata": {},
   "outputs": [],
   "source": [
    "import os\n",
    "import re\n",
    "import pandas as pd\n",
    "\n",
    "def load_table_and_split_into_table_of_channel(table, channel_number):\n",
    "    df_spectronaut = pd.read_csv(table, sep='\\t')\n",
    "    is_correct_channel_number = [get_channel_number_from_fg_id(fg_id) == channel_number for fg_id in df_spectronaut['FG.Id']]\n",
    "    df_spectronaut_channel = df_spectronaut[is_correct_channel_number]\n",
    "    df_spectronaut_channel.to_csv(table.replace('.tsv', f'channel{channel_number}.tsv'), sep='\\t', index=False)\n",
    "\n",
    "\n",
    "def get_channel_number_from_fg_id(fg_id):\n",
    "    #search for regex pattern in string\n",
    "    match = re.search('(_\\[DimethNter)(.)(\\].*)', fg_id)\n",
    "    return int(match.group(2))\n",
    "\n",
    "def get_table_file(folder_containing_table):\n",
    "    for file in os.listdir(folder_containing_table):\n",
    "        if file.endswith(\"Report.tsv\"):\n",
    "            return os.path.join(folder_containing_table, file)\n",
    "\n",
    "\n",
    "for channel in [0, 4, 8]:\n",
    "    load_table_and_split_into_table_of_channel(table_file, channel)\n"
   ]
  },
  {
   "cell_type": "code",
   "execution_count": null,
   "metadata": {},
   "outputs": [],
   "source": []
  }
 ],
 "metadata": {
  "kernelspec": {
   "display_name": "Python 3.9.7 ('base')",
   "language": "python",
   "name": "python3"
  },
  "language_info": {
   "codemirror_mode": {
    "name": "ipython",
    "version": 3
   },
   "file_extension": ".py",
   "mimetype": "text/x-python",
   "name": "python",
   "nbconvert_exporter": "python",
   "pygments_lexer": "ipython3",
   "version": "3.9.7"
  },
  "orig_nbformat": 4,
  "vscode": {
   "interpreter": {
    "hash": "df57fb2011fe0677c52ead08c38db10ec9ae0632224e1588dff526d5ca373fd3"
   }
  }
 },
 "nbformat": 4,
 "nbformat_minor": 2
}
